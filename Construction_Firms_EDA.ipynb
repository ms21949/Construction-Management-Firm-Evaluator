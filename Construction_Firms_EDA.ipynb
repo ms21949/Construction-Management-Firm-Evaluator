{
  "cells": [
    {
      "cell_type": "markdown",
      "id": "0d6716af",
      "metadata": {
        "id": "0d6716af"
      },
      "source": [
        "# Construction Firm EDA"
      ]
    },
    {
      "cell_type": "markdown",
      "id": "5035112f",
      "metadata": {
        "id": "5035112f"
      },
      "source": [
        "### Importing Libraries"
      ]
    },
    {
      "cell_type": "code",
      "execution_count": 2,
      "id": "6faae85f",
      "metadata": {
        "id": "6faae85f"
      },
      "outputs": [],
      "source": [
        "import pandas as pd\n",
        "import numpy as np\n",
        "import seaborn as sns\n",
        "from matplotlib import pyplot as plt\n",
        "from sklearn.svm import LinearSVC\n",
        "from sklearn.metrics import classification_report\n",
        "from sklearn import metrics"
      ]
    },
    {
      "cell_type": "markdown",
      "id": "c145048b",
      "metadata": {
        "id": "c145048b"
      },
      "source": [
        "### Reading CSV Data as DataFrame"
      ]
    },
    {
      "cell_type": "code",
      "execution_count": 5,
      "id": "d73f11ab",
      "metadata": {
        "colab": {
          "base_uri": "https://localhost:8080/",
          "height": 206
        },
        "id": "d73f11ab",
        "outputId": "26451406-4fcf-472e-a1a5-a947a90780ea"
      },
      "outputs": [
        {
          "output_type": "execute_result",
          "data": {
            "text/plain": [
              "   Rank_2019 Rank_2018                             Firm Firm_Type  \\\n",
              "0          1         1             BECHTEL, Reston, Va.        EC   \n",
              "1          2         2       AECOM, Los Angeles, Calif.       EAC   \n",
              "2          3         3            JACOBS, Dallas, Texas       EAC   \n",
              "3          4         6               JLL, Chicago, Ill.        CM   \n",
              "4          5         4  PARSONS CORP., Centreville, Va.        EC   \n",
              "\n",
              "   Total_2018_Revenue($ MILL.)  \n",
              "0                       6594.0  \n",
              "1                       3693.5  \n",
              "2                       2189.7  \n",
              "3                       1880.0  \n",
              "4                       1591.4  "
            ],
            "text/html": [
              "\n",
              "  <div id=\"df-ea251df7-8ab2-4fdc-b504-5c6ffb22c632\">\n",
              "    <div class=\"colab-df-container\">\n",
              "      <div>\n",
              "<style scoped>\n",
              "    .dataframe tbody tr th:only-of-type {\n",
              "        vertical-align: middle;\n",
              "    }\n",
              "\n",
              "    .dataframe tbody tr th {\n",
              "        vertical-align: top;\n",
              "    }\n",
              "\n",
              "    .dataframe thead th {\n",
              "        text-align: right;\n",
              "    }\n",
              "</style>\n",
              "<table border=\"1\" class=\"dataframe\">\n",
              "  <thead>\n",
              "    <tr style=\"text-align: right;\">\n",
              "      <th></th>\n",
              "      <th>Rank_2019</th>\n",
              "      <th>Rank_2018</th>\n",
              "      <th>Firm</th>\n",
              "      <th>Firm_Type</th>\n",
              "      <th>Total_2018_Revenue($ MILL.)</th>\n",
              "    </tr>\n",
              "  </thead>\n",
              "  <tbody>\n",
              "    <tr>\n",
              "      <th>0</th>\n",
              "      <td>1</td>\n",
              "      <td>1</td>\n",
              "      <td>BECHTEL, Reston, Va.</td>\n",
              "      <td>EC</td>\n",
              "      <td>6594.0</td>\n",
              "    </tr>\n",
              "    <tr>\n",
              "      <th>1</th>\n",
              "      <td>2</td>\n",
              "      <td>2</td>\n",
              "      <td>AECOM, Los Angeles, Calif.</td>\n",
              "      <td>EAC</td>\n",
              "      <td>3693.5</td>\n",
              "    </tr>\n",
              "    <tr>\n",
              "      <th>2</th>\n",
              "      <td>3</td>\n",
              "      <td>3</td>\n",
              "      <td>JACOBS, Dallas, Texas</td>\n",
              "      <td>EAC</td>\n",
              "      <td>2189.7</td>\n",
              "    </tr>\n",
              "    <tr>\n",
              "      <th>3</th>\n",
              "      <td>4</td>\n",
              "      <td>6</td>\n",
              "      <td>JLL, Chicago, Ill.</td>\n",
              "      <td>CM</td>\n",
              "      <td>1880.0</td>\n",
              "    </tr>\n",
              "    <tr>\n",
              "      <th>4</th>\n",
              "      <td>5</td>\n",
              "      <td>4</td>\n",
              "      <td>PARSONS CORP., Centreville, Va.</td>\n",
              "      <td>EC</td>\n",
              "      <td>1591.4</td>\n",
              "    </tr>\n",
              "  </tbody>\n",
              "</table>\n",
              "</div>\n",
              "      <button class=\"colab-df-convert\" onclick=\"convertToInteractive('df-ea251df7-8ab2-4fdc-b504-5c6ffb22c632')\"\n",
              "              title=\"Convert this dataframe to an interactive table.\"\n",
              "              style=\"display:none;\">\n",
              "        \n",
              "  <svg xmlns=\"http://www.w3.org/2000/svg\" height=\"24px\"viewBox=\"0 0 24 24\"\n",
              "       width=\"24px\">\n",
              "    <path d=\"M0 0h24v24H0V0z\" fill=\"none\"/>\n",
              "    <path d=\"M18.56 5.44l.94 2.06.94-2.06 2.06-.94-2.06-.94-.94-2.06-.94 2.06-2.06.94zm-11 1L8.5 8.5l.94-2.06 2.06-.94-2.06-.94L8.5 2.5l-.94 2.06-2.06.94zm10 10l.94 2.06.94-2.06 2.06-.94-2.06-.94-.94-2.06-.94 2.06-2.06.94z\"/><path d=\"M17.41 7.96l-1.37-1.37c-.4-.4-.92-.59-1.43-.59-.52 0-1.04.2-1.43.59L10.3 9.45l-7.72 7.72c-.78.78-.78 2.05 0 2.83L4 21.41c.39.39.9.59 1.41.59.51 0 1.02-.2 1.41-.59l7.78-7.78 2.81-2.81c.8-.78.8-2.07 0-2.86zM5.41 20L4 18.59l7.72-7.72 1.47 1.35L5.41 20z\"/>\n",
              "  </svg>\n",
              "      </button>\n",
              "      \n",
              "  <style>\n",
              "    .colab-df-container {\n",
              "      display:flex;\n",
              "      flex-wrap:wrap;\n",
              "      gap: 12px;\n",
              "    }\n",
              "\n",
              "    .colab-df-convert {\n",
              "      background-color: #E8F0FE;\n",
              "      border: none;\n",
              "      border-radius: 50%;\n",
              "      cursor: pointer;\n",
              "      display: none;\n",
              "      fill: #1967D2;\n",
              "      height: 32px;\n",
              "      padding: 0 0 0 0;\n",
              "      width: 32px;\n",
              "    }\n",
              "\n",
              "    .colab-df-convert:hover {\n",
              "      background-color: #E2EBFA;\n",
              "      box-shadow: 0px 1px 2px rgba(60, 64, 67, 0.3), 0px 1px 3px 1px rgba(60, 64, 67, 0.15);\n",
              "      fill: #174EA6;\n",
              "    }\n",
              "\n",
              "    [theme=dark] .colab-df-convert {\n",
              "      background-color: #3B4455;\n",
              "      fill: #D2E3FC;\n",
              "    }\n",
              "\n",
              "    [theme=dark] .colab-df-convert:hover {\n",
              "      background-color: #434B5C;\n",
              "      box-shadow: 0px 1px 3px 1px rgba(0, 0, 0, 0.15);\n",
              "      filter: drop-shadow(0px 1px 2px rgba(0, 0, 0, 0.3));\n",
              "      fill: #FFFFFF;\n",
              "    }\n",
              "  </style>\n",
              "\n",
              "      <script>\n",
              "        const buttonEl =\n",
              "          document.querySelector('#df-ea251df7-8ab2-4fdc-b504-5c6ffb22c632 button.colab-df-convert');\n",
              "        buttonEl.style.display =\n",
              "          google.colab.kernel.accessAllowed ? 'block' : 'none';\n",
              "\n",
              "        async function convertToInteractive(key) {\n",
              "          const element = document.querySelector('#df-ea251df7-8ab2-4fdc-b504-5c6ffb22c632');\n",
              "          const dataTable =\n",
              "            await google.colab.kernel.invokeFunction('convertToInteractive',\n",
              "                                                     [key], {});\n",
              "          if (!dataTable) return;\n",
              "\n",
              "          const docLinkHtml = 'Like what you see? Visit the ' +\n",
              "            '<a target=\"_blank\" href=https://colab.research.google.com/notebooks/data_table.ipynb>data table notebook</a>'\n",
              "            + ' to learn more about interactive tables.';\n",
              "          element.innerHTML = '';\n",
              "          dataTable['output_type'] = 'display_data';\n",
              "          await google.colab.output.renderOutput(dataTable, element);\n",
              "          const docLink = document.createElement('div');\n",
              "          docLink.innerHTML = docLinkHtml;\n",
              "          element.appendChild(docLink);\n",
              "        }\n",
              "      </script>\n",
              "    </div>\n",
              "  </div>\n",
              "  "
            ]
          },
          "metadata": {},
          "execution_count": 5
        }
      ],
      "source": [
        "df = pd.read_csv('Construction_Firms_Data.csv', index_col=0)\n",
        "df.head()"
      ]
    },
    {
      "cell_type": "markdown",
      "id": "6cc7b503",
      "metadata": {
        "id": "6cc7b503"
      },
      "source": [
        "### Cleaning, Manipulating and Exploring Data"
      ]
    },
    {
      "cell_type": "code",
      "execution_count": 6,
      "id": "c9069f4c",
      "metadata": {
        "colab": {
          "base_uri": "https://localhost:8080/"
        },
        "id": "c9069f4c",
        "outputId": "eba70f12-3402-4a14-a94a-7a5862e8eb21"
      },
      "outputs": [
        {
          "output_type": "execute_result",
          "data": {
            "text/plain": [
              "Rank_2019                      0\n",
              "Rank_2018                      0\n",
              "Firm                           0\n",
              "Firm_Type                      0\n",
              "Total_2018_Revenue($ MILL.)    0\n",
              "dtype: int64"
            ]
          },
          "metadata": {},
          "execution_count": 6
        }
      ],
      "source": [
        "df.isnull().sum()"
      ]
    },
    {
      "cell_type": "code",
      "execution_count": 7,
      "id": "285478b6",
      "metadata": {
        "colab": {
          "base_uri": "https://localhost:8080/"
        },
        "id": "285478b6",
        "outputId": "f6055d9b-b694-4ba7-fad9-8a433e7795d0"
      },
      "outputs": [
        {
          "output_type": "stream",
          "name": "stdout",
          "text": [
            "<class 'pandas.core.frame.DataFrame'>\n",
            "Int64Index: 100 entries, 0 to 99\n",
            "Data columns (total 5 columns):\n",
            " #   Column                       Non-Null Count  Dtype  \n",
            "---  ------                       --------------  -----  \n",
            " 0   Rank_2019                    100 non-null    int64  \n",
            " 1   Rank_2018                    100 non-null    object \n",
            " 2   Firm                         100 non-null    object \n",
            " 3   Firm_Type                    100 non-null    object \n",
            " 4   Total_2018_Revenue($ MILL.)  100 non-null    float64\n",
            "dtypes: float64(1), int64(1), object(3)\n",
            "memory usage: 4.7+ KB\n"
          ]
        }
      ],
      "source": [
        "df.info()"
      ]
    },
    {
      "cell_type": "markdown",
      "source": [
        "### Splitting Firm_Name column into Firm_Name, Headquaters, State code "
      ],
      "metadata": {
        "id": "Qa2V51n9X0iR"
      },
      "id": "Qa2V51n9X0iR"
    },
    {
      "cell_type": "code",
      "execution_count": 8,
      "id": "8b0ff539",
      "metadata": {
        "id": "8b0ff539"
      },
      "outputs": [],
      "source": [
        "temp = df[\"Firm\"].str.split(\",\", n = 2, expand = True)\n",
        "df['Firm_Name'] = temp[0]\n",
        "df['Headquaters'] = temp[1]\n",
        "df['State'] = temp[2]"
      ]
    },
    {
      "cell_type": "code",
      "execution_count": 9,
      "id": "9589e9ea",
      "metadata": {
        "id": "9589e9ea"
      },
      "outputs": [],
      "source": [
        "df = df.drop('Firm', axis=1)"
      ]
    },
    {
      "cell_type": "code",
      "execution_count": 10,
      "id": "64d341e2",
      "metadata": {
        "colab": {
          "base_uri": "https://localhost:8080/",
          "height": 468
        },
        "id": "64d341e2",
        "outputId": "82422148-2455-4104-9b22-9598e06f36cc"
      },
      "outputs": [
        {
          "output_type": "execute_result",
          "data": {
            "text/plain": [
              "    Rank_2019 Rank_2018 Firm_Type  Total_2018_Revenue($ MILL.)  \\\n",
              "0           1         1        EC                       6594.0   \n",
              "1           2         2       EAC                       3693.5   \n",
              "2           3         3       EAC                       2189.7   \n",
              "3           4         6        CM                       1880.0   \n",
              "4           5         4        EC                       1591.4   \n",
              "..        ...       ...       ...                          ...   \n",
              "95         96        95        CM                         12.4   \n",
              "96         97        **         C                         12.3   \n",
              "97         98        **        CM                         11.8   \n",
              "98         99        **        CM                         11.1   \n",
              "99        100        **         C                         11.1   \n",
              "\n",
              "                           Firm_Name    Headquaters    State  \n",
              "0                            BECHTEL         Reston      Va.  \n",
              "1                              AECOM    Los Angeles   Calif.  \n",
              "2                             JACOBS         Dallas    Texas  \n",
              "3                                JLL        Chicago     Ill.  \n",
              "4                      PARSONS CORP.    Centreville      Va.  \n",
              "..                               ...            ...      ...  \n",
              "95         CAMPUS CONSTRUCTION MGMT.      Pittsford     N.Y.  \n",
              "96         INFINITE CONSULTING CORP.     Hicksville     N.Y.  \n",
              "97                       FULCRUM LLC     Scottsdale    Ariz.  \n",
              "98  O’CONNOR CONSTRUCTION MGMT. INC.         Irvine   Calif.  \n",
              "99         ROCKFORD CONSTRUCTION CO.   Grand Rapids    Mich.  \n",
              "\n",
              "[100 rows x 7 columns]"
            ],
            "text/html": [
              "\n",
              "  <div id=\"df-2191a847-9c37-4f67-9666-abbe3f7a6f9c\">\n",
              "    <div class=\"colab-df-container\">\n",
              "      <div>\n",
              "<style scoped>\n",
              "    .dataframe tbody tr th:only-of-type {\n",
              "        vertical-align: middle;\n",
              "    }\n",
              "\n",
              "    .dataframe tbody tr th {\n",
              "        vertical-align: top;\n",
              "    }\n",
              "\n",
              "    .dataframe thead th {\n",
              "        text-align: right;\n",
              "    }\n",
              "</style>\n",
              "<table border=\"1\" class=\"dataframe\">\n",
              "  <thead>\n",
              "    <tr style=\"text-align: right;\">\n",
              "      <th></th>\n",
              "      <th>Rank_2019</th>\n",
              "      <th>Rank_2018</th>\n",
              "      <th>Firm_Type</th>\n",
              "      <th>Total_2018_Revenue($ MILL.)</th>\n",
              "      <th>Firm_Name</th>\n",
              "      <th>Headquaters</th>\n",
              "      <th>State</th>\n",
              "    </tr>\n",
              "  </thead>\n",
              "  <tbody>\n",
              "    <tr>\n",
              "      <th>0</th>\n",
              "      <td>1</td>\n",
              "      <td>1</td>\n",
              "      <td>EC</td>\n",
              "      <td>6594.0</td>\n",
              "      <td>BECHTEL</td>\n",
              "      <td>Reston</td>\n",
              "      <td>Va.</td>\n",
              "    </tr>\n",
              "    <tr>\n",
              "      <th>1</th>\n",
              "      <td>2</td>\n",
              "      <td>2</td>\n",
              "      <td>EAC</td>\n",
              "      <td>3693.5</td>\n",
              "      <td>AECOM</td>\n",
              "      <td>Los Angeles</td>\n",
              "      <td>Calif.</td>\n",
              "    </tr>\n",
              "    <tr>\n",
              "      <th>2</th>\n",
              "      <td>3</td>\n",
              "      <td>3</td>\n",
              "      <td>EAC</td>\n",
              "      <td>2189.7</td>\n",
              "      <td>JACOBS</td>\n",
              "      <td>Dallas</td>\n",
              "      <td>Texas</td>\n",
              "    </tr>\n",
              "    <tr>\n",
              "      <th>3</th>\n",
              "      <td>4</td>\n",
              "      <td>6</td>\n",
              "      <td>CM</td>\n",
              "      <td>1880.0</td>\n",
              "      <td>JLL</td>\n",
              "      <td>Chicago</td>\n",
              "      <td>Ill.</td>\n",
              "    </tr>\n",
              "    <tr>\n",
              "      <th>4</th>\n",
              "      <td>5</td>\n",
              "      <td>4</td>\n",
              "      <td>EC</td>\n",
              "      <td>1591.4</td>\n",
              "      <td>PARSONS CORP.</td>\n",
              "      <td>Centreville</td>\n",
              "      <td>Va.</td>\n",
              "    </tr>\n",
              "    <tr>\n",
              "      <th>...</th>\n",
              "      <td>...</td>\n",
              "      <td>...</td>\n",
              "      <td>...</td>\n",
              "      <td>...</td>\n",
              "      <td>...</td>\n",
              "      <td>...</td>\n",
              "      <td>...</td>\n",
              "    </tr>\n",
              "    <tr>\n",
              "      <th>95</th>\n",
              "      <td>96</td>\n",
              "      <td>95</td>\n",
              "      <td>CM</td>\n",
              "      <td>12.4</td>\n",
              "      <td>CAMPUS CONSTRUCTION MGMT.</td>\n",
              "      <td>Pittsford</td>\n",
              "      <td>N.Y.</td>\n",
              "    </tr>\n",
              "    <tr>\n",
              "      <th>96</th>\n",
              "      <td>97</td>\n",
              "      <td>**</td>\n",
              "      <td>C</td>\n",
              "      <td>12.3</td>\n",
              "      <td>INFINITE CONSULTING CORP.</td>\n",
              "      <td>Hicksville</td>\n",
              "      <td>N.Y.</td>\n",
              "    </tr>\n",
              "    <tr>\n",
              "      <th>97</th>\n",
              "      <td>98</td>\n",
              "      <td>**</td>\n",
              "      <td>CM</td>\n",
              "      <td>11.8</td>\n",
              "      <td>FULCRUM LLC</td>\n",
              "      <td>Scottsdale</td>\n",
              "      <td>Ariz.</td>\n",
              "    </tr>\n",
              "    <tr>\n",
              "      <th>98</th>\n",
              "      <td>99</td>\n",
              "      <td>**</td>\n",
              "      <td>CM</td>\n",
              "      <td>11.1</td>\n",
              "      <td>O’CONNOR CONSTRUCTION MGMT. INC.</td>\n",
              "      <td>Irvine</td>\n",
              "      <td>Calif.</td>\n",
              "    </tr>\n",
              "    <tr>\n",
              "      <th>99</th>\n",
              "      <td>100</td>\n",
              "      <td>**</td>\n",
              "      <td>C</td>\n",
              "      <td>11.1</td>\n",
              "      <td>ROCKFORD CONSTRUCTION CO.</td>\n",
              "      <td>Grand Rapids</td>\n",
              "      <td>Mich.</td>\n",
              "    </tr>\n",
              "  </tbody>\n",
              "</table>\n",
              "<p>100 rows × 7 columns</p>\n",
              "</div>\n",
              "      <button class=\"colab-df-convert\" onclick=\"convertToInteractive('df-2191a847-9c37-4f67-9666-abbe3f7a6f9c')\"\n",
              "              title=\"Convert this dataframe to an interactive table.\"\n",
              "              style=\"display:none;\">\n",
              "        \n",
              "  <svg xmlns=\"http://www.w3.org/2000/svg\" height=\"24px\"viewBox=\"0 0 24 24\"\n",
              "       width=\"24px\">\n",
              "    <path d=\"M0 0h24v24H0V0z\" fill=\"none\"/>\n",
              "    <path d=\"M18.56 5.44l.94 2.06.94-2.06 2.06-.94-2.06-.94-.94-2.06-.94 2.06-2.06.94zm-11 1L8.5 8.5l.94-2.06 2.06-.94-2.06-.94L8.5 2.5l-.94 2.06-2.06.94zm10 10l.94 2.06.94-2.06 2.06-.94-2.06-.94-.94-2.06-.94 2.06-2.06.94z\"/><path d=\"M17.41 7.96l-1.37-1.37c-.4-.4-.92-.59-1.43-.59-.52 0-1.04.2-1.43.59L10.3 9.45l-7.72 7.72c-.78.78-.78 2.05 0 2.83L4 21.41c.39.39.9.59 1.41.59.51 0 1.02-.2 1.41-.59l7.78-7.78 2.81-2.81c.8-.78.8-2.07 0-2.86zM5.41 20L4 18.59l7.72-7.72 1.47 1.35L5.41 20z\"/>\n",
              "  </svg>\n",
              "      </button>\n",
              "      \n",
              "  <style>\n",
              "    .colab-df-container {\n",
              "      display:flex;\n",
              "      flex-wrap:wrap;\n",
              "      gap: 12px;\n",
              "    }\n",
              "\n",
              "    .colab-df-convert {\n",
              "      background-color: #E8F0FE;\n",
              "      border: none;\n",
              "      border-radius: 50%;\n",
              "      cursor: pointer;\n",
              "      display: none;\n",
              "      fill: #1967D2;\n",
              "      height: 32px;\n",
              "      padding: 0 0 0 0;\n",
              "      width: 32px;\n",
              "    }\n",
              "\n",
              "    .colab-df-convert:hover {\n",
              "      background-color: #E2EBFA;\n",
              "      box-shadow: 0px 1px 2px rgba(60, 64, 67, 0.3), 0px 1px 3px 1px rgba(60, 64, 67, 0.15);\n",
              "      fill: #174EA6;\n",
              "    }\n",
              "\n",
              "    [theme=dark] .colab-df-convert {\n",
              "      background-color: #3B4455;\n",
              "      fill: #D2E3FC;\n",
              "    }\n",
              "\n",
              "    [theme=dark] .colab-df-convert:hover {\n",
              "      background-color: #434B5C;\n",
              "      box-shadow: 0px 1px 3px 1px rgba(0, 0, 0, 0.15);\n",
              "      filter: drop-shadow(0px 1px 2px rgba(0, 0, 0, 0.3));\n",
              "      fill: #FFFFFF;\n",
              "    }\n",
              "  </style>\n",
              "\n",
              "      <script>\n",
              "        const buttonEl =\n",
              "          document.querySelector('#df-2191a847-9c37-4f67-9666-abbe3f7a6f9c button.colab-df-convert');\n",
              "        buttonEl.style.display =\n",
              "          google.colab.kernel.accessAllowed ? 'block' : 'none';\n",
              "\n",
              "        async function convertToInteractive(key) {\n",
              "          const element = document.querySelector('#df-2191a847-9c37-4f67-9666-abbe3f7a6f9c');\n",
              "          const dataTable =\n",
              "            await google.colab.kernel.invokeFunction('convertToInteractive',\n",
              "                                                     [key], {});\n",
              "          if (!dataTable) return;\n",
              "\n",
              "          const docLinkHtml = 'Like what you see? Visit the ' +\n",
              "            '<a target=\"_blank\" href=https://colab.research.google.com/notebooks/data_table.ipynb>data table notebook</a>'\n",
              "            + ' to learn more about interactive tables.';\n",
              "          element.innerHTML = '';\n",
              "          dataTable['output_type'] = 'display_data';\n",
              "          await google.colab.output.renderOutput(dataTable, element);\n",
              "          const docLink = document.createElement('div');\n",
              "          docLink.innerHTML = docLinkHtml;\n",
              "          element.appendChild(docLink);\n",
              "        }\n",
              "      </script>\n",
              "    </div>\n",
              "  </div>\n",
              "  "
            ]
          },
          "metadata": {},
          "execution_count": 10
        }
      ],
      "source": [
        "df"
      ]
    },
    {
      "cell_type": "markdown",
      "source": [
        "### Handling \"**\" values and datatype in DataFrame "
      ],
      "metadata": {
        "id": "ujrfdvxvYMIP"
      },
      "id": "ujrfdvxvYMIP"
    },
    {
      "cell_type": "code",
      "execution_count": 11,
      "id": "ab71a6b9",
      "metadata": {
        "id": "ab71a6b9"
      },
      "outputs": [],
      "source": [
        "df['Rank_2018'].replace(\"**\",0, inplace=True)"
      ]
    },
    {
      "cell_type": "code",
      "execution_count": 12,
      "id": "87956c66",
      "metadata": {
        "id": "87956c66"
      },
      "outputs": [],
      "source": [
        "df['Rank_2018'].replace(\"** \",0, inplace=True)"
      ]
    },
    {
      "cell_type": "code",
      "execution_count": 13,
      "id": "eb85618d",
      "metadata": {
        "id": "eb85618d"
      },
      "outputs": [],
      "source": [
        "df['Rank_2019'].replace(\"**\",0, inplace=True)"
      ]
    },
    {
      "cell_type": "code",
      "execution_count": 14,
      "id": "62f2bf6e",
      "metadata": {
        "id": "62f2bf6e"
      },
      "outputs": [],
      "source": [
        "df['Rank_2019'] = pd.to_numeric(df['Rank_2019'])"
      ]
    },
    {
      "cell_type": "code",
      "execution_count": 15,
      "id": "33ba5c00",
      "metadata": {
        "id": "33ba5c00"
      },
      "outputs": [],
      "source": [
        "df['Rank_2018'] = pd.to_numeric(df['Rank_2018'])"
      ]
    },
    {
      "cell_type": "code",
      "execution_count": 16,
      "id": "d884acf5",
      "metadata": {
        "colab": {
          "base_uri": "https://localhost:8080/"
        },
        "id": "d884acf5",
        "outputId": "8b2f8506-849c-4228-a295-5bcf91774b98"
      },
      "outputs": [
        {
          "output_type": "stream",
          "name": "stdout",
          "text": [
            "<class 'pandas.core.frame.DataFrame'>\n",
            "Int64Index: 100 entries, 0 to 99\n",
            "Data columns (total 7 columns):\n",
            " #   Column                       Non-Null Count  Dtype  \n",
            "---  ------                       --------------  -----  \n",
            " 0   Rank_2019                    100 non-null    int64  \n",
            " 1   Rank_2018                    100 non-null    int64  \n",
            " 2   Firm_Type                    100 non-null    object \n",
            " 3   Total_2018_Revenue($ MILL.)  100 non-null    float64\n",
            " 4   Firm_Name                    100 non-null    object \n",
            " 5   Headquaters                  100 non-null    object \n",
            " 6   State                        100 non-null    object \n",
            "dtypes: float64(1), int64(2), object(4)\n",
            "memory usage: 6.2+ KB\n"
          ]
        }
      ],
      "source": [
        "df.info()"
      ]
    },
    {
      "cell_type": "markdown",
      "id": "08727e3e",
      "metadata": {
        "id": "08727e3e"
      },
      "source": [
        "### Exploratory Data Analysis "
      ]
    },
    {
      "cell_type": "markdown",
      "source": [
        "#### Sectors with highest revenue in millions($)"
      ],
      "metadata": {
        "id": "4fVH-Wd6YkqB"
      },
      "id": "4fVH-Wd6YkqB"
    },
    {
      "cell_type": "code",
      "execution_count": 17,
      "id": "a2173318",
      "metadata": {
        "colab": {
          "base_uri": "https://localhost:8080/",
          "height": 412
        },
        "id": "a2173318",
        "outputId": "8541be20-b710-4a4d-8a97-7313cc1098c8"
      },
      "outputs": [
        {
          "output_type": "execute_result",
          "data": {
            "text/plain": [
              "<matplotlib.axes._subplots.AxesSubplot at 0x7fa280558d90>"
            ]
          },
          "metadata": {},
          "execution_count": 17
        },
        {
          "output_type": "display_data",
          "data": {
            "text/plain": [
              "<Figure size 648x432 with 1 Axes>"
            ],
            "image/png": "[encoded data removed]"
          },
          "metadata": {
            "needs_background": "light"
          }
        }
      ],
      "source": [
        "plt.figure(figsize=(9,6))\n",
        "sns.set_theme(style=\"whitegrid\")\n",
        "sns.barplot(data=df, x='Firm_Type', y='Total_2018_Revenue($ MILL.)', palette='summer')\n",
        "             "
      ]
    },
    {
      "cell_type": "markdown",
      "source": [
        "#### Creating a column target with respect to the increase in Rank from 2018 to 2019. If the Rank from 2019 is higher than the Rank in 2018 then assigning boolean 1, else assigning 0. Target == 1 if the Firm is worth considering for investment and Target == 0 if it is NOT worth considering."
      ],
      "metadata": {
        "id": "FY28D6SIYtzK"
      },
      "id": "FY28D6SIYtzK"
    },
    {
      "cell_type": "code",
      "execution_count": 18,
      "id": "c67b5c23",
      "metadata": {
        "id": "c67b5c23"
      },
      "outputs": [],
      "source": [
        "df['Target'] = np.where(df['Rank_2019'] <= df['Rank_2018'], 1,0)"
      ]
    },
    {
      "cell_type": "markdown",
      "source": [
        "#### Relationship of Target with respect to the features"
      ],
      "metadata": {
        "id": "7scvhro3ZHEy"
      },
      "id": "7scvhro3ZHEy"
    },
    {
      "cell_type": "code",
      "execution_count": 19,
      "id": "14a7bf5d",
      "metadata": {
        "colab": {
          "base_uri": "https://localhost:8080/",
          "height": 566
        },
        "id": "14a7bf5d",
        "outputId": "f036a261-a9e8-4c56-b22a-b02cf99b87cd"
      },
      "outputs": [
        {
          "output_type": "execute_result",
          "data": {
            "text/plain": [
              "<seaborn.axisgrid.PairGrid at 0x7fa280480750>"
            ]
          },
          "metadata": {},
          "execution_count": 19
        },
        {
          "output_type": "display_data",
          "data": {
            "text/plain": [
              "<Figure size 586.6x540 with 12 Axes>"
            ],
            "image/png": "[encoded data removed]"
          },
          "metadata": {}
        }
      ],
      "source": [
        "sns.pairplot(df, hue=\"Target\", diag_kind=\"hist\")"
      ]
    },
    {
      "cell_type": "markdown",
      "source": [
        "#### U.S States with highest revenue"
      ],
      "metadata": {
        "id": "vaoUR54TZzE1"
      },
      "id": "vaoUR54TZzE1"
    },
    {
      "cell_type": "code",
      "execution_count": 20,
      "id": "86f832c9",
      "metadata": {
        "colab": {
          "base_uri": "https://localhost:8080/",
          "height": 468
        },
        "id": "86f832c9",
        "outputId": "d7363b00-8a5e-40c5-ff82-3bd394481adb"
      },
      "outputs": [
        {
          "output_type": "execute_result",
          "data": {
            "text/plain": [
              "<matplotlib.axes._subplots.AxesSubplot at 0x7fa27cd7cdd0>"
            ]
          },
          "metadata": {},
          "execution_count": 20
        },
        {
          "output_type": "display_data",
          "data": {
            "text/plain": [
              "<Figure size 648x432 with 1 Axes>"
            ],
            "image/png": "[encoded data removed]"
          },
          "metadata": {}
        }
      ],
      "source": [
        "plt.figure(figsize=(9,6))\n",
        "plt.xticks(rotation=90)\n",
        "sns.barplot(data=df, x='State', y='Total_2018_Revenue($ MILL.)', palette='spring')"
      ]
    },
    {
      "cell_type": "code",
      "source": [
        "df['Total_2018_Revenue($ MILL.)'].unique()"
      ],
      "metadata": {
        "colab": {
          "base_uri": "https://localhost:8080/"
        },
        "id": "5cgkcpj0WnQx",
        "outputId": "55c5ed7a-1b72-4e1f-d710-15790ec327e6"
      },
      "id": "5cgkcpj0WnQx",
      "execution_count": 24,
      "outputs": [
        {
          "output_type": "execute_result",
          "data": {
            "text/plain": [
              "array([6594. , 3693.5, 2189.7, 1880. , 1591.4, 1508.1,  846.6,  657.4,\n",
              "        466.4,  271. ,  235. ,  224.9,  153.3,  127.5,  126.2,  125.4,\n",
              "        123.1,  120.5,  106.5,  103.5,   99.4,   91.1,   87. ,   86.3,\n",
              "         77.4,   71.9,   67.2,   64.6,   63.8,   60.8,   60.7,   58.3,\n",
              "         57.6,   50. ,   45.6,   45.4,   44.6,   42.1,   40.5,   40.4,\n",
              "         35. ,   34.6,   34.2,   33.8,   33.7,   33.4,   33.1,   31.6,\n",
              "         31. ,   30.7,   30.5,   30.1,   29.3,   28. ,   27.3,   27.2,\n",
              "         27.1,   27. ,   25.4,   25.2,   25. ,   24.7,   23. ,   22.9,\n",
              "         22.7,   22.1,   21.2,   20.3,   20. ,   19.8,   18.5,   17.9,\n",
              "         16.7,   16.2,   16. ,   15.9,   15.6,   15.4,   14.9,   14.1,\n",
              "         13.6,   13. ,   12.8,   12.4,   12.3,   11.8,   11.1])"
            ]
          },
          "metadata": {},
          "execution_count": 24
        }
      ]
    },
    {
      "cell_type": "markdown",
      "source": [
        "## Implementing Multinomial Naive-Bayes"
      ],
      "metadata": {
        "id": "nQzXWmzvXc-m"
      },
      "id": "nQzXWmzvXc-m"
    },
    {
      "cell_type": "markdown",
      "source": [
        "#### Initializing Features (Rank 2019 & Total Revenue in 2018)"
      ],
      "metadata": {
        "id": "nKS63PzVZ51r"
      },
      "id": "nKS63PzVZ51r"
    },
    {
      "cell_type": "code",
      "execution_count": 28,
      "id": "22ef673a",
      "metadata": {
        "id": "22ef673a"
      },
      "outputs": [],
      "source": [
        "X = df[['Rank_2019','Total_2018_Revenue($ MILL.)']]\n",
        "y = df['Target']"
      ]
    },
    {
      "cell_type": "markdown",
      "source": [
        "#### Initializing model "
      ],
      "metadata": {
        "id": "DBZWZQNtaENF"
      },
      "id": "DBZWZQNtaENF"
    },
    {
      "cell_type": "code",
      "execution_count": 29,
      "id": "01daa2cb",
      "metadata": {
        "id": "01daa2cb"
      },
      "outputs": [],
      "source": [
        "from sklearn.model_selection import train_test_split\n",
        "X_train, X_test, y_train, y_test = train_test_split(X, y, test_size=0.20, random_state=0)"
      ]
    },
    {
      "cell_type": "code",
      "execution_count": 31,
      "id": "651428d6",
      "metadata": {
        "colab": {
          "base_uri": "https://localhost:8080/"
        },
        "id": "651428d6",
        "outputId": "c3f86f4c-7ae5-42f6-ab88-03c1214e35b5"
      },
      "outputs": [
        {
          "output_type": "stream",
          "name": "stdout",
          "text": [
            "accuracy:   0.800\n",
            "[[11  0]\n",
            " [ 4  5]]\n"
          ]
        }
      ],
      "source": [
        "from sklearn.naive_bayes import MultinomialNB\n",
        "classifier=MultinomialNB()\n",
        "\n",
        "classifier.fit(X_train, y_train)\n",
        "pred = classifier.predict(X_test)\n",
        "score = metrics.accuracy_score(y_test, pred)\n",
        "print(\"accuracy:   %0.3f\" % score)\n",
        "cm = metrics.confusion_matrix(y_test, pred)\n",
        "print(cm)"
      ]
    },
    {
      "cell_type": "markdown",
      "source": [
        "#### Creating an object for the classifier"
      ],
      "metadata": {
        "id": "QGs4RnrFaJHa"
      },
      "id": "QGs4RnrFaJHa"
    },
    {
      "cell_type": "code",
      "execution_count": 32,
      "id": "9d9ae240",
      "metadata": {
        "colab": {
          "base_uri": "https://localhost:8080/"
        },
        "id": "9d9ae240",
        "outputId": "41785fe0-a353-4146-b194-d111e8a630cc"
      },
      "outputs": [
        {
          "output_type": "execute_result",
          "data": {
            "text/plain": [
              "MultinomialNB()"
            ]
          },
          "metadata": {},
          "execution_count": 32
        }
      ],
      "source": [
        "nb = MultinomialNB()\n",
        "nb.fit(X_train, y_train)"
      ]
    },
    {
      "cell_type": "markdown",
      "source": [
        "#### Pickling for deployment"
      ],
      "metadata": {
        "id": "idEPZzAZaOV3"
      },
      "id": "idEPZzAZaOV3"
    },
    {
      "cell_type": "code",
      "execution_count": null,
      "id": "87d2f0f9",
      "metadata": {
        "id": "87d2f0f9"
      },
      "outputs": [],
      "source": [
        "import pickle\n",
        "pickle.dump(nb, open('modell.pkl','wb'))"
      ]
    }
  ],
  "metadata": {
    "kernelspec": {
      "display_name": "Python 3",
      "language": "python",
      "name": "python3"
    },
    "language_info": {
      "codemirror_mode": {
        "name": "ipython",
        "version": 3
      },
      "file_extension": ".py",
      "mimetype": "text/x-python",
      "name": "python",
      "nbconvert_exporter": "python",
      "pygments_lexer": "ipython3",
      "version": "3.8.8"
    },
    "colab": {
      "provenance": []
    }
  },
  "nbformat": 4,
  "nbformat_minor": 5
}